{
 "cells": [
  {
   "attachments": {},
   "cell_type": "markdown",
   "metadata": {},
   "source": [
    "# Text Generation after transformer block\n",
    "\n",
    "Steps from phrase as input:\n",
    "- tokenize input\n",
    "- generate embeddings and positional\n",
    "- transformer block (GPT)\n",
    "- receives a matrix andbget last vector\n",
    "- comnverts logits (vectore) to prob distriubution using softmax\n",
    "- highest item is the tokenId to get word\n",
    "- done"
   ]
  },
  {
   "cell_type": "code",
   "execution_count": 21,
   "metadata": {},
   "outputs": [],
   "source": [
    "import torch\n",
    "import torch.nn as nn\n",
    "import tiktoken\n",
    "import myllm.gpt as gpt\n"
   ]
  },
  {
   "cell_type": "code",
   "execution_count": 22,
   "metadata": {},
   "outputs": [],
   "source": [
    "def generate_text_simple(model, idx, max_new_tokens, content_size):\n",
    "    for _ in range(max_new_tokens):\n",
    "        idx_cond = idx[:, -content_size:]\n",
    "        with torch.no_grad():\n",
    "            logits = model(idx_cond)\n",
    "            logits = logits[:, -1, :]\n",
    "            probas = torch.softmax(logits, dim=-1)\n",
    "            idx_next = torch.argmax(probas, dim=-1, keepdim=True)\n",
    "            idx = torch.cat((idx, idx_next), dim=1)\n",
    "    return idx"
   ]
  },
  {
   "cell_type": "code",
   "execution_count": 23,
   "metadata": {},
   "outputs": [
    {
     "name": "stdout",
     "output_type": "stream",
     "text": [
      "[15496, 11, 314, 716]\n",
      "torch.Size([1, 4])\n"
     ]
    }
   ],
   "source": [
    "tokenizer = tiktoken.get_encoding(\"gpt2\")\n",
    "\n",
    "start_context = \"Hello, I am\"\n",
    "encoded = tokenizer.encode(start_context)\n",
    "print(encoded)\n",
    "\n",
    "encoded_tensor = torch.tensor(encoded).unsqueeze(0)\n",
    "print(encoded_tensor.shape)\n",
    "\n"
   ]
  },
  {
   "cell_type": "code",
   "execution_count": 24,
   "metadata": {},
   "outputs": [
    {
     "name": "stdout",
     "output_type": "stream",
     "text": [
      "torch.Size([1, 4, 50257])\n",
      "tensor([[[-0.2456, -0.3471,  0.0570,  ..., -0.1567,  0.3721, -0.3070],\n",
      "         [ 0.9986, -0.1967, -0.3521,  ...,  0.4728,  0.7032, -0.0133],\n",
      "         [ 1.0982,  0.4236,  0.5861,  ..., -0.2510,  0.8326, -0.0555],\n",
      "         [-0.3278,  0.7634, -0.2148,  ...,  1.1910, -0.9351, -0.6408]]],\n",
      "       grad_fn=<UnsafeViewBackward0>)\n"
     ]
    }
   ],
   "source": [
    "torch.manual_seed(123)\n",
    "model = gpt.GPTModel(gpt.GPT_CONFIG_124M)\n",
    "\n",
    "logits = model(encoded_tensor)\n",
    "\n",
    "print(logits.shape)\n",
    "print(logits)"
   ]
  },
  {
   "cell_type": "code",
   "execution_count": 25,
   "metadata": {},
   "outputs": [
    {
     "name": "stdout",
     "output_type": "stream",
     "text": [
      "tensor([[15496,    11,   314,   716, 27018,  7283, 46275, 41426, 33167, 33239]])\n",
      "10\n"
     ]
    }
   ],
   "source": [
    "model.eval()\n",
    "\n",
    "out = generate_text_simple(\n",
    "    model=model,\n",
    "    idx=encoded_tensor,\n",
    "    max_new_tokens=6,\n",
    "    content_size=gpt.GPT_CONFIG_124M[\"context_length\"]\n",
    ")\n",
    "\n",
    "print(out)\n",
    "print(len(out[0]))"
   ]
  },
  {
   "cell_type": "code",
   "execution_count": 26,
   "metadata": {},
   "outputs": [
    {
     "name": "stdout",
     "output_type": "stream",
     "text": [
      "Hello, I am Feature IT snowballProtect youngstersMu\n"
     ]
    }
   ],
   "source": [
    "decoded_text= tokenizer.decode(out.squeeze(0).tolist())\n",
    "print(decoded_text)"
   ]
  },
  {
   "cell_type": "code",
   "execution_count": null,
   "metadata": {},
   "outputs": [],
   "source": []
  }
 ],
 "metadata": {
  "kernelspec": {
   "display_name": "llm",
   "language": "python",
   "name": "python3"
  },
  "language_info": {
   "codemirror_mode": {
    "name": "ipython",
    "version": 3
   },
   "file_extension": ".py",
   "mimetype": "text/x-python",
   "name": "python",
   "nbconvert_exporter": "python",
   "pygments_lexer": "ipython3",
   "version": "3.13.3"
  },
  "orig_nbformat": 4
 },
 "nbformat": 4,
 "nbformat_minor": 2
}
