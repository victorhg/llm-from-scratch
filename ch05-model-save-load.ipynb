{
 "cells": [
  {
   "attachments": {},
   "cell_type": "markdown",
   "metadata": {},
   "source": [
    "# Saving and loading the model\n",
    "\n",
    "We saved the model after training at:\n",
    "\n",
    "```python\n",
    "torch.save(model.state_dict(), 'model.pth')\n",
    "```\n",
    "\n",
    "Now we learn how to deal with it"
   ]
  },
  {
   "cell_type": "markdown",
   "metadata": {},
   "source": []
  }
 ],
 "metadata": {
  "language_info": {
   "name": "python"
  },
  "orig_nbformat": 4
 },
 "nbformat": 4,
 "nbformat_minor": 2
}
