{
 "cells": [
  {
   "attachments": {},
   "cell_type": "markdown",
   "metadata": {},
   "source": [
    "# Transformer Block and Attention Mechanism\n",
    "\n",
    "glossary:\n",
    "\n",
    "- shortcut: mitigate vanishing gradiant\n",
    "- normalization: improve training efficiency\n",
    "- attention: token influence in context\n",
    "- dropout: random removal to mitigate overfitting "
   ]
  },
  {
   "cell_type": "code",
   "execution_count": 1,
   "metadata": {},
   "outputs": [],
   "source": [
    "import torch\n",
    "import torch.nn as nn\n",
    "import myllm.attention as att\n",
    "import myllm.layers as layers\n",
    "import myllm.gpt as transformer\n",
    "\n"
   ]
  },
  {
   "cell_type": "code",
   "execution_count": 2,
   "metadata": {},
   "outputs": [],
   "source": [
    "class TransformerBlock(nn.Module):\n",
    "    def __init__(self, cfg):\n",
    "        super().__init__()\n",
    "        self.att = att.MultiHeadAttention(\n",
    "            d_in = cfg[\"emb_dim\"],\n",
    "            d_out = cfg[\"emb_dim\"],\n",
    "            num_heads = cfg[\"n_heads\"],\n",
    "            dropout = cfg[\"drop_attention\"],\n",
    "            qkv_bias = cfg[\"qkv_bias\"],\n",
    "            context_length = cfg[\"context_length\"],\n",
    "        )\n",
    "        self.ff = layers.FeedForward(cfg)\n",
    "        self.norm1 = layers.LayerNorm(cfg[\"emb_dim\"])\n",
    "        self.norm2 = layers.LayerNorm(cfg[\"emb_dim\"])\n",
    "        self.drop_shortcut = nn.Dropout(cfg[\"drop_shortcut\"])\n",
    "\n",
    "    def forward(self, x):\n",
    "        shortcut = x\n",
    "        x = self.norm1(x)\n",
    "        x = self.att(x)\n",
    "        x = self.drop_shortcut(x)\n",
    "\n",
    "        x = x + shortcut\n",
    "\n",
    "        shortcut = x\n",
    "        x = self.norm2(x)\n",
    "        x = self.ff(x)\n",
    "        x = self.drop_shortcut(x)\n",
    "        x = x + shortcut\n",
    "\n",
    "        return x"
   ]
  },
  {
   "attachments": {},
   "cell_type": "markdown",
   "metadata": {},
   "source": [
    "### Application"
   ]
  },
  {
   "cell_type": "code",
   "execution_count": 3,
   "metadata": {},
   "outputs": [
    {
     "name": "stdout",
     "output_type": "stream",
     "text": [
      "input torch.Size([2, 4, 768])\n",
      "output torch.Size([2, 4, 768])\n"
     ]
    }
   ],
   "source": [
    "torch.manual_seed(123)\n",
    "x = torch.rand(2,4,768)\n",
    "\n",
    "block = TransformerBlock(transformer.GPT_CONFIG_124M)\n",
    "\n",
    "output = block(x)\n",
    "\n",
    "print(\"input\", x.shape)\n",
    "print(\"output\", output.shape)"
   ]
  },
  {
   "attachments": {},
   "cell_type": "markdown",
   "metadata": {},
   "source": [
    "## The GPT Model"
   ]
  },
  {
   "cell_type": "code",
   "execution_count": 4,
   "metadata": {},
   "outputs": [],
   "source": [
    "class GPTModel(nn.Module):\n",
    "    def __init__(self, cfg):\n",
    "        super().__init__()\n",
    "        # define embeddings \n",
    "        self.tok_emb = nn.Embedding(cfg[\"vocab_size\"], cfg[\"emb_dim\"])\n",
    "        self.pos_emb = nn.Embedding(cfg[\"context_length\"], cfg[\"emb_dim\"])\n",
    "        self.drop_emb = nn.Dropout(cfg[\"drop_embedding\"])\n",
    "\n",
    "        self.trf_blocks = nn.Sequential(\n",
    "            *[TransformerBlock(cfg) for _ in range(cfg[\"n_layers\"])]\n",
    "        )\n",
    "\n",
    "        self.final_norm = layers.LayerNorm(cfg[\"emb_dim\"])\n",
    "        self.out_head = nn.Linear(\n",
    "            cfg[\"emb_dim\"], cfg[\"vocab_size\"], bias=False\n",
    "        )\n",
    "\n",
    "    def forward(self, in_idx):\n",
    "        batch_size, seq_len = in_idx.shape\n",
    "        tok_embeds = self.tok_emb(in_idx)\n",
    "        pos_embeds = self.pos_emb( torch.arange(seq_len, device=in_idx.device))\n",
    "\n",
    "        x = tok_embeds + pos_embeds\n",
    "        x = self.drop_emb(x)\n",
    "        x = self.trf_blocks(x)\n",
    "        x = self.final_norm(x)\n",
    "\n",
    "        logits = self.out_head(x)\n",
    "        return logits\n",
    "\n"
   ]
  },
  {
   "cell_type": "code",
   "execution_count": 5,
   "metadata": {},
   "outputs": [],
   "source": [
    "import tiktoken\n",
    "tokenizer = tiktoken.get_encoding(\"gpt2\")\n",
    "batch=[]\n",
    "\n",
    "txt1 = \"Every effort moves you\"\n",
    "txt2 = \"Every day holds a\"\n",
    "\n",
    "batch.append(torch.tensor(tokenizer.encode(txt1)))\n",
    "batch.append(torch.tensor(tokenizer.encode(txt2)))\n",
    "\n",
    "batch = torch.stack(batch, dim=0)"
   ]
  },
  {
   "cell_type": "code",
   "execution_count": 6,
   "metadata": {},
   "outputs": [
    {
     "name": "stdout",
     "output_type": "stream",
     "text": [
      "input:  tensor([[6109, 3626, 6100,  345],\n",
      "        [6109, 1110, 6622,  257]])\n",
      "output:  torch.Size([2, 4, 50257])\n",
      "tensor([[[ 0.4100,  0.0773, -0.1233,  ...,  0.4064,  0.1511, -0.2058],\n",
      "         [ 0.2380, -0.6609, -0.8712,  ..., -0.2786,  0.3351, -0.1805],\n",
      "         [ 1.0871,  0.1384, -0.3017,  ...,  0.0142, -0.5550, -0.1027],\n",
      "         [-0.7906,  0.5643, -0.1533,  ...,  0.7284,  0.3933,  0.0907]],\n",
      "\n",
      "        [[-0.4984, -0.1907, -0.0464,  ...,  0.2285,  0.0701, -0.3359],\n",
      "         [ 0.2858,  0.3912, -0.1629,  ...,  0.7203, -0.1694,  0.3580],\n",
      "         [ 1.0323,  0.7883, -0.1233,  ...,  0.7404,  0.1473, -0.1822],\n",
      "         [-0.1140,  0.5510,  0.2920,  ...,  1.2281, -0.1607, -0.0441]]],\n",
      "       grad_fn=<UnsafeViewBackward0>)\n"
     ]
    }
   ],
   "source": [
    "\n",
    "torch.manual_seed(123)\n",
    "model = GPTModel(transformer.GPT_CONFIG_124M)\n",
    "\n",
    "out = model(batch)\n",
    "\n",
    "print(\"input: \", batch)\n",
    "print(\"output: \", out.shape)\n",
    "print(out)"
   ]
  },
  {
   "cell_type": "code",
   "execution_count": 7,
   "metadata": {},
   "outputs": [
    {
     "name": "stdout",
     "output_type": "stream",
     "text": [
      "total parameters 163009536\n",
      "token emb layer torch.Size([50257, 768])\n",
      "output layer shape torch.Size([50257, 768])\n",
      "total params considering weight tying:  124412160\n"
     ]
    }
   ],
   "source": [
    "total_params = sum(p.numel() for p in model.parameters())\n",
    "\n",
    "print(\"total parameters\", total_params)\n",
    "\n",
    "# why the size is bigger than 124M?\n",
    "print(\"token emb layer\", model.tok_emb.weight.shape)\n",
    "print(\"output layer shape\", model.out_head.weight.shape)\n",
    "\n",
    "# weight tying\n",
    "total_params_gpt2 = total_params - sum(p.numel() for p in model.out_head.parameters())\n",
    "print(\"total params considering weight tying: \", total_params_gpt2)"
   ]
  },
  {
   "cell_type": "code",
   "execution_count": 8,
   "metadata": {},
   "outputs": [
    {
     "name": "stdout",
     "output_type": "stream",
     "text": [
      "4722432\n",
      "2360064\n"
     ]
    }
   ],
   "source": [
    "ffparams = 0\n",
    "maparams = 0\n",
    "\n",
    "for module in model.trf_blocks:\n",
    "    ffparams = sum(p.numel() for p in module.ff.parameters())\n",
    "    maparams = sum(p.numel() for p in module.att.parameters()) \n",
    "\n",
    "print(ffparams)\n",
    "print(maparams)"
   ]
  },
  {
   "cell_type": "code",
   "execution_count": 9,
   "metadata": {},
   "outputs": [
    {
     "name": "stdout",
     "output_type": "stream",
     "text": [
      "Total size of the model  621.83 MB\n"
     ]
    }
   ],
   "source": [
    "total_size_bytes = total_params * 4\n",
    "\n",
    "total_size_mb = total_size_bytes / (1024 * 1024)\n",
    "\n",
    "print(f\"Total size of the model {total_size_mb: .2f} MB\")"
   ]
  },
  {
   "cell_type": "code",
   "execution_count": 10,
   "metadata": {},
   "outputs": [
    {
     "name": "stdout",
     "output_type": "stream",
     "text": [
      "gpt2-medium\n",
      "total params considering weight tying:  354749440\n",
      "Total size of the model  1353.26 MB\n",
      "\n",
      "\n",
      "gpt2-large\n",
      "total params considering weight tying:  773891840\n",
      "Total size of the model  2952.16 MB\n",
      "\n",
      "\n",
      "gpt2-xl\n",
      "total params considering weight tying:  1557380800\n",
      "Total size of the model  5940.94 MB\n",
      "\n",
      "\n"
     ]
    }
   ],
   "source": [
    "import myllm.gpt as gpt\n",
    "import myllm.util\n",
    "\n",
    "# Calculating the size of the 3 other possible models based on the configuration\n",
    "def calc_params(model):\n",
    "    total_params = sum(p.numel() for p in model.parameters())\n",
    "    total_params = total_params - sum(p.numel() for p in model.out_head.parameters())\n",
    "    print(\"total params considering weight tying: \", total_params)\n",
    "    total_size_bytes = total_params * 4\n",
    "    total_size_mb = total_size_bytes / (1024 * 1024)\n",
    "    print(f\"Total size of the model {total_size_mb: .2f} MB\")\n",
    "\n",
    "\n",
    "print(\"gpt2-medium\")\n",
    "calc_params(GPTModel(myllm.util.gpt_config(\"gpt2-medium\")))\n",
    "print(\"\\n\")\n",
    "\n",
    "print(\"gpt2-large\")\n",
    "calc_params(GPTModel(myllm.util.gpt_config(\"gpt2-large\")))\n",
    "print(\"\\n\")\n",
    "\n",
    "print(\"gpt2-xl\")\n",
    "calc_params(GPTModel(myllm.util.gpt_config(\"gpt2-xl\")))\n",
    "print(\"\\n\")\n"
   ]
  },
  {
   "cell_type": "markdown",
   "metadata": {},
   "source": []
  },
  {
   "cell_type": "code",
   "execution_count": null,
   "metadata": {},
   "outputs": [],
   "source": []
  }
 ],
 "metadata": {
  "kernelspec": {
   "display_name": "llm",
   "language": "python",
   "name": "python3"
  },
  "language_info": {
   "codemirror_mode": {
    "name": "ipython",
    "version": 3
   },
   "file_extension": ".py",
   "mimetype": "text/x-python",
   "name": "python",
   "nbconvert_exporter": "python",
   "pygments_lexer": "ipython3",
   "version": "3.11.0"
  },
  "orig_nbformat": 4
 },
 "nbformat": 4,
 "nbformat_minor": 2
}
